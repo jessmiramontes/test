{
 "cells": [
  {
   "cell_type": "code",
   "execution_count": 3,
   "metadata": {},
   "outputs": [],
   "source": [
    "# Step 0. Import libraries and custom modules\n",
    "import pandas as pd\n",
    "import numpy as np\n",
    "import matplotlib.pyplot as plt\n",
    "import seaborn as sns"
   ]
  },
  {
   "cell_type": "code",
   "execution_count": 5,
   "metadata": {},
   "outputs": [
    {
     "name": "stdout",
     "output_type": "stream",
     "text": [
      "<class 'pandas.core.frame.DataFrame'>\n",
      "RangeIndex: 1000 entries, 0 to 999\n",
      "Data columns (total 5 columns):\n",
      " #   Column  Non-Null Count  Dtype         \n",
      "---  ------  --------------  -----         \n",
      " 0   Date    1000 non-null   datetime64[ns]\n",
      " 1   Region  1000 non-null   object        \n",
      " 2   Type    1000 non-null   object        \n",
      " 3   Units   911 non-null    float64       \n",
      " 4   Sales   1000 non-null   int64         \n",
      "dtypes: datetime64[ns](1), float64(1), int64(1), object(2)\n",
      "memory usage: 39.2+ KB\n"
     ]
    }
   ],
   "source": [
    "# Step 1. Load data, show info and sample\n",
    "# 1.1 Read data\n",
    "df_raw = pd.read_excel(\n",
    "   'https://github.com/datagy/mediumdata/raw/master/sample_pivot.xlsx', \n",
    "   parse_dates=['Date']\n",
    ")\n",
    "df_raw.info()"
   ]
  },
  {
   "cell_type": "code",
   "execution_count": 6,
   "metadata": {},
   "outputs": [
    {
     "data": {
      "text/html": [
       "<div>\n",
       "<style scoped>\n",
       "    .dataframe tbody tr th:only-of-type {\n",
       "        vertical-align: middle;\n",
       "    }\n",
       "\n",
       "    .dataframe tbody tr th {\n",
       "        vertical-align: top;\n",
       "    }\n",
       "\n",
       "    .dataframe thead th {\n",
       "        text-align: right;\n",
       "    }\n",
       "</style>\n",
       "<table border=\"1\" class=\"dataframe\">\n",
       "  <thead>\n",
       "    <tr style=\"text-align: right;\">\n",
       "      <th></th>\n",
       "      <th>Date</th>\n",
       "      <th>Region</th>\n",
       "      <th>Type</th>\n",
       "      <th>Units</th>\n",
       "      <th>Sales</th>\n",
       "    </tr>\n",
       "  </thead>\n",
       "  <tbody>\n",
       "    <tr>\n",
       "      <th>681</th>\n",
       "      <td>2020-11-27</td>\n",
       "      <td>East</td>\n",
       "      <td>Children's Clothing</td>\n",
       "      <td>32.0</td>\n",
       "      <td>342</td>\n",
       "    </tr>\n",
       "    <tr>\n",
       "      <th>990</th>\n",
       "      <td>2020-12-17</td>\n",
       "      <td>North</td>\n",
       "      <td>Children's Clothing</td>\n",
       "      <td>7.0</td>\n",
       "      <td>217</td>\n",
       "    </tr>\n",
       "    <tr>\n",
       "      <th>155</th>\n",
       "      <td>2020-06-13</td>\n",
       "      <td>East</td>\n",
       "      <td>Children's Clothing</td>\n",
       "      <td>30.0</td>\n",
       "      <td>336</td>\n",
       "    </tr>\n",
       "    <tr>\n",
       "      <th>768</th>\n",
       "      <td>2020-06-25</td>\n",
       "      <td>North</td>\n",
       "      <td>Women's Clothing</td>\n",
       "      <td>5.0</td>\n",
       "      <td>644</td>\n",
       "    </tr>\n",
       "    <tr>\n",
       "      <th>438</th>\n",
       "      <td>2020-10-07</td>\n",
       "      <td>North</td>\n",
       "      <td>Women's Clothing</td>\n",
       "      <td>30.0</td>\n",
       "      <td>462</td>\n",
       "    </tr>\n",
       "  </tbody>\n",
       "</table>\n",
       "</div>"
      ],
      "text/plain": [
       "          Date Region                 Type  Units  Sales\n",
       "681 2020-11-27   East  Children's Clothing   32.0    342\n",
       "990 2020-12-17  North  Children's Clothing    7.0    217\n",
       "155 2020-06-13   East  Children's Clothing   30.0    336\n",
       "768 2020-06-25  North     Women's Clothing    5.0    644\n",
       "438 2020-10-07  North     Women's Clothing   30.0    462"
      ]
     },
     "execution_count": 6,
     "metadata": {},
     "output_type": "execute_result"
    }
   ],
   "source": [
    "# 1.2 Show sample\n",
    "df_raw.sample(5, random_state=1234)"
   ]
  },
  {
   "cell_type": "code",
   "execution_count": 7,
   "metadata": {},
   "outputs": [],
   "source": [
    "# Step 2. Transform to standard format\n",
    "# 2.1 Create a pandas chain to convert to final form\n",
    "df = (\n",
    "    df_raw\n",
    "    .copy()\n",
    "    .set_axis(\n",
    "        df_raw\n",
    "        .columns.str.lower()\n",
    "        .str.replace(' ','_')\n",
    "        .str.replace(r'\\W','',regex=True)\n",
    "        .str.slice(0,40), axis=1\n",
    "    )\n",
    "    .astype({'region':'category', \n",
    "             'type':'category'})\n",
    "    .assign(\n",
    "        date = lambda x: pd.to_datetime(x['date'], format='%Y-%m-%d')\n",
    "    )\n",
    "    .set_index('date')\n",
    ")"
   ]
  },
  {
   "cell_type": "code",
   "execution_count": 8,
   "metadata": {},
   "outputs": [
    {
     "data": {
      "text/html": [
       "<div>\n",
       "<style scoped>\n",
       "    .dataframe tbody tr th:only-of-type {\n",
       "        vertical-align: middle;\n",
       "    }\n",
       "\n",
       "    .dataframe tbody tr th {\n",
       "        vertical-align: top;\n",
       "    }\n",
       "\n",
       "    .dataframe thead th {\n",
       "        text-align: right;\n",
       "    }\n",
       "</style>\n",
       "<table border=\"1\" class=\"dataframe\">\n",
       "  <thead>\n",
       "    <tr style=\"text-align: right;\">\n",
       "      <th></th>\n",
       "      <th>count</th>\n",
       "      <th>mean</th>\n",
       "      <th>std</th>\n",
       "      <th>min</th>\n",
       "      <th>25%</th>\n",
       "      <th>50%</th>\n",
       "      <th>75%</th>\n",
       "      <th>max</th>\n",
       "    </tr>\n",
       "  </thead>\n",
       "  <tbody>\n",
       "    <tr>\n",
       "      <th>units</th>\n",
       "      <td>911.0</td>\n",
       "      <td>19.638858</td>\n",
       "      <td>9.471309</td>\n",
       "      <td>3.0</td>\n",
       "      <td>12.0</td>\n",
       "      <td>20.0</td>\n",
       "      <td>28.0</td>\n",
       "      <td>35.0</td>\n",
       "    </tr>\n",
       "    <tr>\n",
       "      <th>sales</th>\n",
       "      <td>1000.0</td>\n",
       "      <td>427.254000</td>\n",
       "      <td>253.441362</td>\n",
       "      <td>33.0</td>\n",
       "      <td>224.0</td>\n",
       "      <td>380.0</td>\n",
       "      <td>575.0</td>\n",
       "      <td>1155.0</td>\n",
       "    </tr>\n",
       "  </tbody>\n",
       "</table>\n",
       "</div>"
      ],
      "text/plain": [
       "        count        mean         std   min    25%    50%    75%     max\n",
       "units   911.0   19.638858    9.471309   3.0   12.0   20.0   28.0    35.0\n",
       "sales  1000.0  427.254000  253.441362  33.0  224.0  380.0  575.0  1155.0"
      ]
     },
     "metadata": {},
     "output_type": "display_data"
    },
    {
     "data": {
      "text/html": [
       "<div>\n",
       "<style scoped>\n",
       "    .dataframe tbody tr th:only-of-type {\n",
       "        vertical-align: middle;\n",
       "    }\n",
       "\n",
       "    .dataframe tbody tr th {\n",
       "        vertical-align: top;\n",
       "    }\n",
       "\n",
       "    .dataframe thead th {\n",
       "        text-align: right;\n",
       "    }\n",
       "</style>\n",
       "<table border=\"1\" class=\"dataframe\">\n",
       "  <thead>\n",
       "    <tr style=\"text-align: right;\">\n",
       "      <th></th>\n",
       "      <th>count</th>\n",
       "      <th>unique</th>\n",
       "      <th>top</th>\n",
       "      <th>freq</th>\n",
       "    </tr>\n",
       "  </thead>\n",
       "  <tbody>\n",
       "    <tr>\n",
       "      <th>region</th>\n",
       "      <td>1000</td>\n",
       "      <td>4</td>\n",
       "      <td>East</td>\n",
       "      <td>411</td>\n",
       "    </tr>\n",
       "    <tr>\n",
       "      <th>type</th>\n",
       "      <td>1000</td>\n",
       "      <td>3</td>\n",
       "      <td>Women's Clothing</td>\n",
       "      <td>424</td>\n",
       "    </tr>\n",
       "  </tbody>\n",
       "</table>\n",
       "</div>"
      ],
      "text/plain": [
       "       count unique               top freq\n",
       "region  1000      4              East  411\n",
       "type    1000      3  Women's Clothing  424"
      ]
     },
     "metadata": {},
     "output_type": "display_data"
    }
   ],
   "source": [
    "# Step 3. Perform busines analysis\n",
    "# 3.1 Get the summary, for categorical and numerical columns\n",
    "display(df.describe(include= 'number').T)\n",
    "display(df.describe(include= 'category').T)"
   ]
  },
  {
   "cell_type": "code",
   "execution_count": 11,
   "metadata": {},
   "outputs": [
    {
     "name": "stdout",
     "output_type": "stream",
     "text": [
      "total sales: 427254\n"
     ]
    }
   ],
   "source": [
    "# 3.2 Get the sum of total sales\n",
    "print(f'total sales: {df[\"sales\"].sum()}')"
   ]
  },
  {
   "cell_type": "code",
   "execution_count": 12,
   "metadata": {},
   "outputs": [
    {
     "name": "stdout",
     "output_type": "stream",
     "text": [
      "Average sales: 427.254\n"
     ]
    }
   ],
   "source": [
    "# 3.3 Get the average of sales\n",
    "print(f'Average sales: {df[\"sales\"].mean()}')"
   ]
  },
  {
   "cell_type": "code",
   "execution_count": 19,
   "metadata": {},
   "outputs": [
    {
     "name": "stdout",
     "output_type": "stream",
     "text": [
      "Sales by region\n",
      "region\n",
      "East     167763\n",
      "North    138700\n",
      "South     59315\n",
      "West      61476\n",
      "Name: sales, dtype: int64\n"
     ]
    },
    {
     "name": "stderr",
     "output_type": "stream",
     "text": [
      "/tmp/ipykernel_6550/2920723695.py:3: FutureWarning: The default of observed=False is deprecated and will be changed to True in a future version of pandas. Pass observed=False to retain current behavior or observed=True to adopt the future default and silence this warning.\n",
      "  sales_by_region = df.groupby(\"region\")[\"sales\"].sum()\n"
     ]
    }
   ],
   "source": [
    "# 3.4 Get the sum of sales by region\n",
    "print(\"Sales by region\")\n",
    "sales_by_region = df.groupby(\"region\")[\"sales\"].sum()\n",
    "\n",
    "print(sales_by_region)"
   ]
  },
  {
   "cell_type": "code",
   "execution_count": null,
   "metadata": {},
   "outputs": [
    {
     "name": "stdout",
     "output_type": "stream",
     "text": [
      "Average Sales by region\n",
      "region\n",
      "East     408.182482\n",
      "North    438.924051\n",
      "South    432.956204\n",
      "West     452.029412\n",
      "Name: sales, dtype: float64\n"
     ]
    },
    {
     "name": "stderr",
     "output_type": "stream",
     "text": [
      "/tmp/ipykernel_6550/1741626865.py:2: FutureWarning: The default of observed=False is deprecated and will be changed to True in a future version of pandas. Pass observed=False to retain current behavior or observed=True to adopt the future default and silence this warning.\n",
      "  avg_sales_by_region = df.groupby(\"region\")[\"sales\"].mean()\n"
     ]
    }
   ],
   "source": [
    "# 3.4 Get the average sales by region\n",
    "avg_sales_by_region = df.groupby(\"region\")[\"sales\"].mean()\n",
    "print(\"Average Sales by region\")\n",
    "print(avg_sales_by_region)"
   ]
  },
  {
   "cell_type": "code",
   "execution_count": 23,
   "metadata": {},
   "outputs": [
    {
     "name": "stdout",
     "output_type": "stream",
     "text": [
      "Data for East:\n",
      "Sales for East region: 167763\n",
      "Average Sales for East region: 408.1824817518248\n",
      "Count of Sales for East region: 8110.0\n",
      "Data for North:\n",
      "Sales for North region: 138700\n",
      "Average Sales for North region: 438.9240506329114\n",
      "Count of Sales for North region: 4359.0\n",
      "Data for South:\n",
      "Sales for South region: 59315\n",
      "Average Sales for South region: 432.95620437956205\n",
      "Count of Sales for South region: 2798.0\n",
      "Data for West:\n",
      "Sales for West region: 61476\n",
      "Average Sales for West region: 452.02941176470586\n",
      "Count of Sales for West region: 2624.0\n"
     ]
    },
    {
     "name": "stderr",
     "output_type": "stream",
     "text": [
      "/tmp/ipykernel_6550/3215383462.py:2: FutureWarning: The default of observed=False is deprecated and will be changed to True in a future version of pandas. Pass observed=False to retain current behavior or observed=True to adopt the future default and silence this warning.\n",
      "  count_sales_by_region = df.groupby(\"region\")[\"units\"].sum()\n"
     ]
    }
   ],
   "source": [
    "# 3.5 Get the sum, mean and count of sales by region\n",
    "count_sales_by_region = df.groupby(\"region\")[\"units\"].sum()\n",
    "\n",
    "print(\"Data for East:\")\n",
    "sales_east = sales_by_region['East']\n",
    "mean_east = avg_sales_by_region[\"East\"]\n",
    "count_east = count_sales_by_region[\"East\"]\n",
    "print(f'Sales for East region: {sales_east}')\n",
    "print(f'Average Sales for East region: {mean_east}')\n",
    "print(f'Count of Sales for East region: {count_east}')\n",
    "\n",
    "print(\"Data for North:\")\n",
    "sales_north = sales_by_region['North']\n",
    "mean_north = avg_sales_by_region[\"North\"]\n",
    "count_north = count_sales_by_region[\"North\"]\n",
    "print(f'Sales for North region: {sales_north}')\n",
    "print(f'Average Sales for North region: {mean_north}')\n",
    "print(f'Count of Sales for North region: {count_north}')\n",
    "\n",
    "print(\"Data for South:\")\n",
    "sales_south = sales_by_region['South']\n",
    "mean_south = avg_sales_by_region[\"South\"]\n",
    "count_south = count_sales_by_region[\"South\"]\n",
    "print(f'Sales for South region: {sales_south}')\n",
    "print(f'Average Sales for South region: {mean_south}')\n",
    "print(f'Count of Sales for South region: {count_south}')\n",
    "\n",
    "print(\"Data for West:\")\n",
    "sales_west = sales_by_region['West']\n",
    "mean_west = avg_sales_by_region[\"West\"]\n",
    "count_west = count_sales_by_region[\"West\"]\n",
    "print(f'Sales for West region: {sales_west}')\n",
    "print(f'Average Sales for West region: {mean_west}')\n",
    "print(f'Count of Sales for West region: {count_west}')"
   ]
  },
  {
   "cell_type": "code",
   "execution_count": 24,
   "metadata": {},
   "outputs": [
    {
     "name": "stdout",
     "output_type": "stream",
     "text": [
      "                      units\n",
      "type                       \n",
      "Children's Clothing  5887.0\n",
      "Men's Clothing       3974.0\n",
      "Women's Clothing     8030.0\n"
     ]
    },
    {
     "name": "stderr",
     "output_type": "stream",
     "text": [
      "/tmp/ipykernel_6550/680530046.py:2: FutureWarning: The default value of observed=False is deprecated and will change to observed=True in a future version of pandas. Specify observed=False to silence this warning and retain the current behavior\n",
      "  pivot_table = df.pivot_table(values='units', index='type', aggfunc='sum')\n"
     ]
    }
   ],
   "source": [
    "# 3.6 Create a pivot table that gets total units by type\n",
    "pivot_table = df.pivot_table(values='units', index='type', aggfunc='sum')\n",
    "print(pivot_table)"
   ]
  },
  {
   "cell_type": "code",
   "execution_count": 25,
   "metadata": {},
   "outputs": [
    {
     "name": "stdout",
     "output_type": "stream",
     "text": [
      "           region                 type  units  sales\n",
      "date                                                \n",
      "2020-07-11   East  Children's Clothing   18.0    306\n",
      "2020-02-28   East  Children's Clothing   26.0    832\n",
      "2020-03-25   East     Women's Clothing   29.0    609\n",
      "2020-11-03   East  Children's Clothing   34.0    374\n",
      "2020-05-01   East       Men's Clothing   10.0    140\n",
      "...           ...                  ...    ...    ...\n",
      "2020-03-20   East       Men's Clothing   14.0    238\n",
      "2020-06-05   East  Children's Clothing   11.0    220\n",
      "2020-05-04   East       Men's Clothing    6.0    108\n",
      "2020-10-18   East     Women's Clothing   19.0    399\n",
      "2020-02-11   East  Children's Clothing   35.0    735\n",
      "\n",
      "[411 rows x 4 columns]\n"
     ]
    }
   ],
   "source": [
    "# 3.7 Display the dataset showing only the East region\n",
    "east_region_df = df[df['region'] == 'East']\n",
    "print(east_region_df)"
   ]
  },
  {
   "cell_type": "code",
   "execution_count": 27,
   "metadata": {},
   "outputs": [
    {
     "name": "stdout",
     "output_type": "stream",
     "text": [
      "           region                 type  units  sales\n",
      "date                                                \n",
      "2020-07-11   East  Children's Clothing   18.0    306\n",
      "2020-02-28   East  Children's Clothing   26.0    832\n",
      "2020-03-19   West     Women's Clothing    3.0     33\n",
      "2020-03-25   East     Women's Clothing   29.0    609\n",
      "2020-11-03   East  Children's Clothing   34.0    374\n",
      "...           ...                  ...    ...    ...\n",
      "2020-02-08   West       Men's Clothing   32.0    928\n",
      "2020-05-04   East       Men's Clothing    6.0    108\n",
      "2020-11-17   West       Men's Clothing   27.0    486\n",
      "2020-10-18   East     Women's Clothing   19.0    399\n",
      "2020-02-11   East  Children's Clothing   35.0    735\n",
      "\n",
      "[547 rows x 4 columns]\n"
     ]
    }
   ],
   "source": [
    "# 3.8 Display the dataset showing only the East and West regions\n",
    "combined_region_df = df[(df['region'] == 'East') | (df['region'] == 'West')]\n",
    "print(combined_region_df)"
   ]
  },
  {
   "cell_type": "code",
   "execution_count": 28,
   "metadata": {},
   "outputs": [
    {
     "name": "stdout",
     "output_type": "stream",
     "text": [
      "           region                 type  units  sales\n",
      "date                                                \n",
      "2020-11-03   East  Children's Clothing   34.0    374\n",
      "2020-06-12   East     Women's Clothing   35.0   1050\n",
      "2020-05-11   East       Men's Clothing   35.0    700\n",
      "2020-06-14   East       Men's Clothing   32.0    416\n",
      "2020-10-28   East       Men's Clothing   34.0    986\n",
      "...           ...                  ...    ...    ...\n",
      "2020-02-24   East     Women's Clothing   32.0    693\n",
      "2020-08-13   East       Men's Clothing   32.0    132\n",
      "2020-10-04   East       Men's Clothing   35.0    350\n",
      "2020-10-20   East       Men's Clothing   32.0    928\n",
      "2020-02-11   East  Children's Clothing   35.0    735\n",
      "\n",
      "[70 rows x 4 columns]\n"
     ]
    }
   ],
   "source": [
    "# 3.9 Display the dataset showing East sales with units over 30 \n",
    "east_high_units_df = df[(df['region'] == 'East') & (df['units'] > 30)]\n",
    "print(east_high_units_df)"
   ]
  },
  {
   "cell_type": "code",
   "execution_count": 29,
   "metadata": {},
   "outputs": [],
   "source": [
    "# 3.10 A data corruption has been detected. Add 1 to all units. \n",
    "df[\"units\"] = df[\"units\"] + 1"
   ]
  },
  {
   "cell_type": "code",
   "execution_count": 31,
   "metadata": {},
   "outputs": [
    {
     "data": {
      "text/html": [
       "<div>\n",
       "<style scoped>\n",
       "    .dataframe tbody tr th:only-of-type {\n",
       "        vertical-align: middle;\n",
       "    }\n",
       "\n",
       "    .dataframe tbody tr th {\n",
       "        vertical-align: top;\n",
       "    }\n",
       "\n",
       "    .dataframe thead th {\n",
       "        text-align: right;\n",
       "    }\n",
       "</style>\n",
       "<table border=\"1\" class=\"dataframe\">\n",
       "  <thead>\n",
       "    <tr style=\"text-align: right;\">\n",
       "      <th></th>\n",
       "      <th>region</th>\n",
       "      <th>type</th>\n",
       "      <th>units</th>\n",
       "      <th>sales</th>\n",
       "    </tr>\n",
       "    <tr>\n",
       "      <th>date</th>\n",
       "      <th></th>\n",
       "      <th></th>\n",
       "      <th></th>\n",
       "      <th></th>\n",
       "    </tr>\n",
       "  </thead>\n",
       "  <tbody>\n",
       "    <tr>\n",
       "      <th>2020-11-27</th>\n",
       "      <td>East</td>\n",
       "      <td>Children's Clothing</td>\n",
       "      <td>33.0</td>\n",
       "      <td>342</td>\n",
       "    </tr>\n",
       "    <tr>\n",
       "      <th>2020-12-17</th>\n",
       "      <td>North</td>\n",
       "      <td>Children's Clothing</td>\n",
       "      <td>8.0</td>\n",
       "      <td>217</td>\n",
       "    </tr>\n",
       "    <tr>\n",
       "      <th>2020-06-13</th>\n",
       "      <td>East</td>\n",
       "      <td>Children's Clothing</td>\n",
       "      <td>31.0</td>\n",
       "      <td>336</td>\n",
       "    </tr>\n",
       "    <tr>\n",
       "      <th>2020-06-25</th>\n",
       "      <td>North</td>\n",
       "      <td>Women's Clothing</td>\n",
       "      <td>6.0</td>\n",
       "      <td>644</td>\n",
       "    </tr>\n",
       "    <tr>\n",
       "      <th>2020-10-07</th>\n",
       "      <td>North</td>\n",
       "      <td>Women's Clothing</td>\n",
       "      <td>31.0</td>\n",
       "      <td>462</td>\n",
       "    </tr>\n",
       "    <tr>\n",
       "      <th>2020-09-08</th>\n",
       "      <td>East</td>\n",
       "      <td>Women's Clothing</td>\n",
       "      <td>4.0</td>\n",
       "      <td>676</td>\n",
       "    </tr>\n",
       "    <tr>\n",
       "      <th>2020-04-20</th>\n",
       "      <td>East</td>\n",
       "      <td>Women's Clothing</td>\n",
       "      <td>16.0</td>\n",
       "      <td>448</td>\n",
       "    </tr>\n",
       "    <tr>\n",
       "      <th>2020-06-03</th>\n",
       "      <td>South</td>\n",
       "      <td>Men's Clothing</td>\n",
       "      <td>23.0</td>\n",
       "      <td>207</td>\n",
       "    </tr>\n",
       "    <tr>\n",
       "      <th>2020-09-24</th>\n",
       "      <td>East</td>\n",
       "      <td>Children's Clothing</td>\n",
       "      <td>26.0</td>\n",
       "      <td>310</td>\n",
       "    </tr>\n",
       "    <tr>\n",
       "      <th>2020-07-23</th>\n",
       "      <td>North</td>\n",
       "      <td>Children's Clothing</td>\n",
       "      <td>32.0</td>\n",
       "      <td>620</td>\n",
       "    </tr>\n",
       "  </tbody>\n",
       "</table>\n",
       "</div>"
      ],
      "text/plain": [
       "           region                 type  units  sales\n",
       "date                                                \n",
       "2020-11-27   East  Children's Clothing   33.0    342\n",
       "2020-12-17  North  Children's Clothing    8.0    217\n",
       "2020-06-13   East  Children's Clothing   31.0    336\n",
       "2020-06-25  North     Women's Clothing    6.0    644\n",
       "2020-10-07  North     Women's Clothing   31.0    462\n",
       "2020-09-08   East     Women's Clothing    4.0    676\n",
       "2020-04-20   East     Women's Clothing   16.0    448\n",
       "2020-06-03  South       Men's Clothing   23.0    207\n",
       "2020-09-24   East  Children's Clothing   26.0    310\n",
       "2020-07-23  North  Children's Clothing   32.0    620"
      ]
     },
     "execution_count": 31,
     "metadata": {},
     "output_type": "execute_result"
    }
   ],
   "source": [
    "df.sample(10, random_state=1234)"
   ]
  },
  {
   "cell_type": "code",
   "execution_count": 32,
   "metadata": {},
   "outputs": [],
   "source": [
    "# 3.11 Another issue was detected, in West region add 2 to all units\n",
    "df.loc[df['region'] == 'West', 'units'] += 2"
   ]
  }
 ],
 "metadata": {
  "kernelspec": {
   "display_name": ".venv",
   "language": "python",
   "name": "python3"
  },
  "language_info": {
   "codemirror_mode": {
    "name": "ipython",
    "version": 3
   },
   "file_extension": ".py",
   "mimetype": "text/x-python",
   "name": "python",
   "nbconvert_exporter": "python",
   "pygments_lexer": "ipython3",
   "version": "3.12.1"
  }
 },
 "nbformat": 4,
 "nbformat_minor": 2
}
